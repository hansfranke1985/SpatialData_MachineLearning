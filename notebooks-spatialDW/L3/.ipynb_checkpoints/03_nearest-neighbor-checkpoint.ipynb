{
 "cells": [
  {
   "cell_type": "markdown",
   "metadata": {},
   "source": [
    "# Nearest Neighbour Analysis\n",
    "\n",
    "\n",
    "One commonly used GIS task is to be able to find the nearest neighbour for an object or a set of objects. For instance, you might have a single Point object\n",
    "representing your home location, and then another set of locations representing e.g. public transport stops. Then, quite typical question is *\"which of the stops is closest one to my home?\"*\n",
    "This is a typical nearest neighbour analysis, where the aim is to find the closest geometry to another geometry.\n",
    "\n",
    "In Python this kind of analysis can be done with shapely function called ``nearest_points()`` that [returns a tuple of the nearest points in the input geometries](https://shapely.readthedocs.io/en/latest/manual.html#shapely.ops.nearest_points).\n",
    "\n",
    "## Nearest point using Shapely\n",
    "\n",
    "\n",
    "Let's start by testing how we can find the nearest Point using the ``nearest_points()`` function of Shapely.\n",
    "\n",
    "- Let's create an origin Point and a few destination Points and find out the closest destination:\n",
    "\n",
    "\n"
   ]
  },
  {
   "cell_type": "code",
   "execution_count": 1,
   "metadata": {},
   "outputs": [],
   "source": [
    "from shapely.geometry import Point, MultiPoint\n",
    "from shapely.ops import nearest_points\n",
    "\n",
    "# Origin point\n",
    "orig = Point(1, 1.67)\n",
    "\n",
    "# Destination points\n",
    "dest1 = Point(0, 1.45)\n",
    "dest2 = Point(2, 2)\n",
    "dest3 = Point(0, 2.5)"
   ]
  },
  {
   "cell_type": "markdown",
   "metadata": {},
   "source": [
    "To be able to find out the closest destination point from the origin, we need to create a MultiPoint object from the destination points."
   ]
  },
  {
   "cell_type": "code",
   "execution_count": 11,
   "metadata": {},
   "outputs": [
    {
     "name": "stdout",
     "output_type": "stream",
     "text": [
      "MULTIPOINT (0 1.45, 2 2, 0 2.5)\n"
     ]
    }
   ],
   "source": [
    "destinations = MultiPoint([dest1, dest2, dest3])\n",
    "print(destinations)"
   ]
  },
  {
   "cell_type": "code",
   "execution_count": 12,
   "metadata": {},
   "outputs": [
    {
     "data": {
      "image/svg+xml": [
       "<svg xmlns=\"http://www.w3.org/2000/svg\" xmlns:xlink=\"http://www.w3.org/1999/xlink\" width=\"100.0\" height=\"100.0\" viewBox=\"-0.08 1.3699999999999999 2.16 1.2100000000000002\" preserveAspectRatio=\"xMinYMin meet\"><g transform=\"matrix(1,0,0,-1,0,3.95)\"><g><circle cx=\"0.0\" cy=\"1.45\" r=\"0.0648\" stroke=\"#555555\" stroke-width=\"0.0216\" fill=\"#66cc99\" opacity=\"0.6\" /><circle cx=\"2.0\" cy=\"2.0\" r=\"0.0648\" stroke=\"#555555\" stroke-width=\"0.0216\" fill=\"#66cc99\" opacity=\"0.6\" /><circle cx=\"0.0\" cy=\"2.5\" r=\"0.0648\" stroke=\"#555555\" stroke-width=\"0.0216\" fill=\"#66cc99\" opacity=\"0.6\" /></g></g></svg>"
      ],
      "text/plain": [
       "<shapely.geometry.multipoint.MultiPoint at 0x207419a6760>"
      ]
     },
     "execution_count": 12,
     "metadata": {},
     "output_type": "execute_result"
    }
   ],
   "source": [
    "destinations"
   ]
  },
  {
   "cell_type": "markdown",
   "metadata": {},
   "source": [
    "Okey, now we can see that all the destination points are represented as a single MultiPoint object.\n",
    "\n",
    "- Now we can find out the nearest destination point by using ``nearest_points()`` function:\n"
   ]
  },
  {
   "cell_type": "code",
   "execution_count": 8,
   "metadata": {},
   "outputs": [
    {
     "ename": "AttributeError",
     "evalue": "'tuple' object has no attribute 'plot'",
     "output_type": "error",
     "traceback": [
      "\u001b[1;31m---------------------------------------------------------------------------\u001b[0m",
      "\u001b[1;31mAttributeError\u001b[0m                            Traceback (most recent call last)",
      "\u001b[1;32m<ipython-input-8-de3574acf9d7>\u001b[0m in \u001b[0;36m<module>\u001b[1;34m\u001b[0m\n\u001b[0;32m      1\u001b[0m \u001b[0mnearest_geoms\u001b[0m \u001b[1;33m=\u001b[0m \u001b[0mnearest_points\u001b[0m\u001b[1;33m(\u001b[0m\u001b[0morig\u001b[0m\u001b[1;33m,\u001b[0m \u001b[0mdestinations\u001b[0m\u001b[1;33m)\u001b[0m\u001b[1;33m\u001b[0m\u001b[1;33m\u001b[0m\u001b[0m\n\u001b[1;32m----> 2\u001b[1;33m \u001b[0mnearest_geoms\u001b[0m\u001b[1;33m.\u001b[0m\u001b[0mplot\u001b[0m\u001b[1;33m(\u001b[0m\u001b[1;33m)\u001b[0m\u001b[1;33m\u001b[0m\u001b[1;33m\u001b[0m\u001b[0m\n\u001b[0m",
      "\u001b[1;31mAttributeError\u001b[0m: 'tuple' object has no attribute 'plot'"
     ]
    }
   ],
   "source": [
    "nearest_geoms = nearest_points(orig, destinations)\n",
    "nearest_geoms"
   ]
  },
  {
   "cell_type": "markdown",
   "metadata": {},
   "source": [
    "- We can check the data type of this object and confirm that the ``nearest_points()`` function returns a tuple of nearest points:"
   ]
  },
  {
   "cell_type": "code",
   "execution_count": 4,
   "metadata": {},
   "outputs": [
    {
     "data": {
      "text/plain": [
       "tuple"
      ]
     },
     "execution_count": 4,
     "metadata": {},
     "output_type": "execute_result"
    }
   ],
   "source": [
    "type(nearest_geoms)"
   ]
  },
  {
   "cell_type": "markdown",
   "metadata": {},
   "source": [
    " - let's check the contents of this tuple:"
   ]
  },
  {
   "cell_type": "code",
   "execution_count": 5,
   "metadata": {},
   "outputs": [
    {
     "name": "stdout",
     "output_type": "stream",
     "text": [
      "(<shapely.geometry.point.Point object at 0x0000020740470760>, <shapely.geometry.point.Point object at 0x00000207404674C0>)\n"
     ]
    }
   ],
   "source": [
    "print(nearest_geoms)"
   ]
  },
  {
   "cell_type": "code",
   "execution_count": 6,
   "metadata": {},
   "outputs": [
    {
     "name": "stdout",
     "output_type": "stream",
     "text": [
      "POINT (1 1.67)\n"
     ]
    }
   ],
   "source": [
    "print(nearest_geoms[0])"
   ]
  },
  {
   "cell_type": "code",
   "execution_count": 12,
   "metadata": {},
   "outputs": [
    {
     "name": "stdout",
     "output_type": "stream",
     "text": [
      "POINT (0 1.45)\n"
     ]
    }
   ],
   "source": [
    "print(nearest_geoms[1])"
   ]
  },
  {
   "cell_type": "markdown",
   "metadata": {},
   "source": [
    "In the tuple, the first item (at index 0) is the geometry of our origin point and the second item (at index 1) is the actual nearest geometry from the destination points. Hence, the closest destination point seems to be the one located at coordinates (0, 1.45).\n",
    "\n",
    "This is the basic logic how we can find the nearest point from a set of points."
   ]
  },
  {
   "cell_type": "markdown",
   "metadata": {},
   "source": [
    "## Nearest points using Geopandas\n",
    "\n",
    "Let's then see how it is possible to find nearest points from a set of origin points to a set of destination points using GeoDataFrames. Here, we will use the ``PKS_suuralueet.kml`` district data, and the ``addresses.shp`` address points from previous sections. \n",
    "\n"
   ]
  },
  {
   "cell_type": "markdown",
   "metadata": {},
   "source": [
    "**Our goal in this tutorial is to find out the closest address to the centroid of each district.**\n",
    "\n",
    "- Let's first read in the data and check their structure:"
   ]
  },
  {
   "cell_type": "code",
   "execution_count": 14,
   "metadata": {},
   "outputs": [],
   "source": [
    "# Import geopandas\n",
    "import geopandas as gpd"
   ]
  },
  {
   "cell_type": "code",
   "execution_count": 15,
   "metadata": {},
   "outputs": [],
   "source": [
    "# Define filepaths\n",
    "fp1 = \"data/PKS_suuralue.kml\"\n",
    "fp2 = \"data/addresses.shp\""
   ]
  },
  {
   "cell_type": "code",
   "execution_count": 16,
   "metadata": {},
   "outputs": [],
   "source": [
    "# Enable KML driver\n",
    "gpd.io.file.fiona.drvsupport.supported_drivers['KML'] = 'rw'"
   ]
  },
  {
   "cell_type": "code",
   "execution_count": 17,
   "metadata": {},
   "outputs": [
    {
     "name": "stderr",
     "output_type": "stream",
     "text": [
      "C:\\Users\\hansf\\anaconda3\\envs\\ssml\\lib\\site-packages\\geopandas\\geodataframe.py:422: RuntimeWarning: Sequential read of iterator was interrupted. Resetting iterator. This can negatively impact the performance.\n",
      "  for feature in features_lst:\n"
     ]
    }
   ],
   "source": [
    "# Read in data with geopandas\n",
    "df1 = gpd.read_file(fp1, driver='KML')\n",
    "df2 = gpd.read_file(fp2)"
   ]
  },
  {
   "cell_type": "code",
   "execution_count": 18,
   "metadata": {},
   "outputs": [
    {
     "data": {
      "text/html": [
       "<div>\n",
       "<style scoped>\n",
       "    .dataframe tbody tr th:only-of-type {\n",
       "        vertical-align: middle;\n",
       "    }\n",
       "\n",
       "    .dataframe tbody tr th {\n",
       "        vertical-align: top;\n",
       "    }\n",
       "\n",
       "    .dataframe thead th {\n",
       "        text-align: right;\n",
       "    }\n",
       "</style>\n",
       "<table border=\"1\" class=\"dataframe\">\n",
       "  <thead>\n",
       "    <tr style=\"text-align: right;\">\n",
       "      <th></th>\n",
       "      <th>Name</th>\n",
       "      <th>Description</th>\n",
       "      <th>geometry</th>\n",
       "    </tr>\n",
       "  </thead>\n",
       "  <tbody>\n",
       "    <tr>\n",
       "      <th>0</th>\n",
       "      <td>Suur-Espoonlahti</td>\n",
       "      <td></td>\n",
       "      <td>POLYGON Z ((24.77506 60.10906 0.00000, 24.7766...</td>\n",
       "    </tr>\n",
       "    <tr>\n",
       "      <th>1</th>\n",
       "      <td>Suur-Kauklahti</td>\n",
       "      <td></td>\n",
       "      <td>POLYGON Z ((24.61578 60.17257 0.00000, 24.6155...</td>\n",
       "    </tr>\n",
       "    <tr>\n",
       "      <th>2</th>\n",
       "      <td>Vanha-Espoo</td>\n",
       "      <td></td>\n",
       "      <td>POLYGON Z ((24.67576 60.21201 0.00000, 24.6752...</td>\n",
       "    </tr>\n",
       "    <tr>\n",
       "      <th>3</th>\n",
       "      <td>Pohjois-Espoo</td>\n",
       "      <td></td>\n",
       "      <td>POLYGON Z ((24.76792 60.26920 0.00000, 24.7699...</td>\n",
       "    </tr>\n",
       "    <tr>\n",
       "      <th>4</th>\n",
       "      <td>Suur-Matinkylä</td>\n",
       "      <td></td>\n",
       "      <td>POLYGON Z ((24.75361 60.16631 0.00000, 24.7537...</td>\n",
       "    </tr>\n",
       "  </tbody>\n",
       "</table>\n",
       "</div>"
      ],
      "text/plain": [
       "               Name Description  \\\n",
       "0  Suur-Espoonlahti               \n",
       "1    Suur-Kauklahti               \n",
       "2       Vanha-Espoo               \n",
       "3     Pohjois-Espoo               \n",
       "4    Suur-Matinkylä               \n",
       "\n",
       "                                            geometry  \n",
       "0  POLYGON Z ((24.77506 60.10906 0.00000, 24.7766...  \n",
       "1  POLYGON Z ((24.61578 60.17257 0.00000, 24.6155...  \n",
       "2  POLYGON Z ((24.67576 60.21201 0.00000, 24.6752...  \n",
       "3  POLYGON Z ((24.76792 60.26920 0.00000, 24.7699...  \n",
       "4  POLYGON Z ((24.75361 60.16631 0.00000, 24.7537...  "
      ]
     },
     "execution_count": 18,
     "metadata": {},
     "output_type": "execute_result"
    }
   ],
   "source": [
    "# District polygons:\n",
    "df1.head()"
   ]
  },
  {
   "cell_type": "code",
   "execution_count": 19,
   "metadata": {},
   "outputs": [
    {
     "data": {
      "text/html": [
       "<div>\n",
       "<style scoped>\n",
       "    .dataframe tbody tr th:only-of-type {\n",
       "        vertical-align: middle;\n",
       "    }\n",
       "\n",
       "    .dataframe tbody tr th {\n",
       "        vertical-align: top;\n",
       "    }\n",
       "\n",
       "    .dataframe thead th {\n",
       "        text-align: right;\n",
       "    }\n",
       "</style>\n",
       "<table border=\"1\" class=\"dataframe\">\n",
       "  <thead>\n",
       "    <tr style=\"text-align: right;\">\n",
       "      <th></th>\n",
       "      <th>address</th>\n",
       "      <th>id</th>\n",
       "      <th>addr</th>\n",
       "      <th>geometry</th>\n",
       "    </tr>\n",
       "  </thead>\n",
       "  <tbody>\n",
       "    <tr>\n",
       "      <th>0</th>\n",
       "      <td>Ruoholahti, 14, Itämerenkatu, Ruoholahti, Läns...</td>\n",
       "      <td>1000</td>\n",
       "      <td>Itämerenkatu 14, 00101 Helsinki, Finland</td>\n",
       "      <td>POINT (24.91556 60.16320)</td>\n",
       "    </tr>\n",
       "    <tr>\n",
       "      <th>1</th>\n",
       "      <td>Kamppi, 1, Kampinkuja, Kamppi, Eteläinen suurp...</td>\n",
       "      <td>1001</td>\n",
       "      <td>Kampinkuja 1, 00100 Helsinki, Finland</td>\n",
       "      <td>POINT (24.93169 60.16902)</td>\n",
       "    </tr>\n",
       "    <tr>\n",
       "      <th>2</th>\n",
       "      <td>Kauppakeskus Citycenter, 8, Kaivokatu, Keskust...</td>\n",
       "      <td>1002</td>\n",
       "      <td>Kaivokatu 8, 00101 Helsinki, Finland</td>\n",
       "      <td>POINT (24.94179 60.16989)</td>\n",
       "    </tr>\n",
       "    <tr>\n",
       "      <th>3</th>\n",
       "      <td>Hermannin rantatie, Verkkosaari, Kalasatama, S...</td>\n",
       "      <td>1003</td>\n",
       "      <td>Hermannin rantatie 1, 00580 Helsinki, Finland</td>\n",
       "      <td>POINT (24.97783 60.18892)</td>\n",
       "    </tr>\n",
       "    <tr>\n",
       "      <th>4</th>\n",
       "      <td>Hesburger, 9, Tyynenmerenkatu, Jätkäsaari, Län...</td>\n",
       "      <td>1005</td>\n",
       "      <td>Tyynenmerenkatu 9, 00220 Helsinki, Finland</td>\n",
       "      <td>POINT (24.92160 60.15665)</td>\n",
       "    </tr>\n",
       "  </tbody>\n",
       "</table>\n",
       "</div>"
      ],
      "text/plain": [
       "                                             address    id  \\\n",
       "0  Ruoholahti, 14, Itämerenkatu, Ruoholahti, Läns...  1000   \n",
       "1  Kamppi, 1, Kampinkuja, Kamppi, Eteläinen suurp...  1001   \n",
       "2  Kauppakeskus Citycenter, 8, Kaivokatu, Keskust...  1002   \n",
       "3  Hermannin rantatie, Verkkosaari, Kalasatama, S...  1003   \n",
       "4  Hesburger, 9, Tyynenmerenkatu, Jätkäsaari, Län...  1005   \n",
       "\n",
       "                                            addr                   geometry  \n",
       "0       Itämerenkatu 14, 00101 Helsinki, Finland  POINT (24.91556 60.16320)  \n",
       "1          Kampinkuja 1, 00100 Helsinki, Finland  POINT (24.93169 60.16902)  \n",
       "2           Kaivokatu 8, 00101 Helsinki, Finland  POINT (24.94179 60.16989)  \n",
       "3  Hermannin rantatie 1, 00580 Helsinki, Finland  POINT (24.97783 60.18892)  \n",
       "4     Tyynenmerenkatu 9, 00220 Helsinki, Finland  POINT (24.92160 60.15665)  "
      ]
     },
     "execution_count": 19,
     "metadata": {},
     "output_type": "execute_result"
    }
   ],
   "source": [
    "# Address points:\n",
    "df2.head()"
   ]
  },
  {
   "cell_type": "markdown",
   "metadata": {},
   "source": [
    "Before calculating any distances, we should re-project the data into a projected crs."
   ]
  },
  {
   "cell_type": "code",
   "execution_count": 20,
   "metadata": {},
   "outputs": [],
   "source": [
    "df1 = df1.to_crs(epsg=3067)\n",
    "df2 = df2.to_crs(epsg=3067)"
   ]
  },
  {
   "cell_type": "markdown",
   "metadata": {},
   "source": [
    "Furthermore, let's calculate the centroids for each district area:"
   ]
  },
  {
   "cell_type": "code",
   "execution_count": 21,
   "metadata": {},
   "outputs": [
    {
     "data": {
      "text/html": [
       "<div>\n",
       "<style scoped>\n",
       "    .dataframe tbody tr th:only-of-type {\n",
       "        vertical-align: middle;\n",
       "    }\n",
       "\n",
       "    .dataframe tbody tr th {\n",
       "        vertical-align: top;\n",
       "    }\n",
       "\n",
       "    .dataframe thead th {\n",
       "        text-align: right;\n",
       "    }\n",
       "</style>\n",
       "<table border=\"1\" class=\"dataframe\">\n",
       "  <thead>\n",
       "    <tr style=\"text-align: right;\">\n",
       "      <th></th>\n",
       "      <th>Name</th>\n",
       "      <th>Description</th>\n",
       "      <th>geometry</th>\n",
       "      <th>centroid</th>\n",
       "    </tr>\n",
       "  </thead>\n",
       "  <tbody>\n",
       "    <tr>\n",
       "      <th>0</th>\n",
       "      <td>Suur-Espoonlahti</td>\n",
       "      <td></td>\n",
       "      <td>POLYGON ((376322.317 6665639.417, 376401.244 6...</td>\n",
       "      <td>POINT (375676.529 6658405.261)</td>\n",
       "    </tr>\n",
       "    <tr>\n",
       "      <th>1</th>\n",
       "      <td>Suur-Kauklahti</td>\n",
       "      <td></td>\n",
       "      <td>POLYGON ((367726.077 6673018.023, 367715.245 6...</td>\n",
       "      <td>POINT (365520.906 6675893.101)</td>\n",
       "    </tr>\n",
       "    <tr>\n",
       "      <th>2</th>\n",
       "      <td>Vanha-Espoo</td>\n",
       "      <td></td>\n",
       "      <td>POLYGON ((371207.712 6677289.881, 371174.739 6...</td>\n",
       "      <td>POINT (367400.175 6681941.088)</td>\n",
       "    </tr>\n",
       "    <tr>\n",
       "      <th>3</th>\n",
       "      <td>Pohjois-Espoo</td>\n",
       "      <td></td>\n",
       "      <td>POLYGON ((376528.523 6683480.345, 376638.253 6...</td>\n",
       "      <td>POINT (372191.037 6687785.458)</td>\n",
       "    </tr>\n",
       "    <tr>\n",
       "      <th>4</th>\n",
       "      <td>Suur-Matinkylä</td>\n",
       "      <td></td>\n",
       "      <td>POLYGON ((375347.271 6672052.630, 375354.852 6...</td>\n",
       "      <td>POINT (375678.189 6670243.076)</td>\n",
       "    </tr>\n",
       "  </tbody>\n",
       "</table>\n",
       "</div>"
      ],
      "text/plain": [
       "               Name Description  \\\n",
       "0  Suur-Espoonlahti               \n",
       "1    Suur-Kauklahti               \n",
       "2       Vanha-Espoo               \n",
       "3     Pohjois-Espoo               \n",
       "4    Suur-Matinkylä               \n",
       "\n",
       "                                            geometry  \\\n",
       "0  POLYGON ((376322.317 6665639.417, 376401.244 6...   \n",
       "1  POLYGON ((367726.077 6673018.023, 367715.245 6...   \n",
       "2  POLYGON ((371207.712 6677289.881, 371174.739 6...   \n",
       "3  POLYGON ((376528.523 6683480.345, 376638.253 6...   \n",
       "4  POLYGON ((375347.271 6672052.630, 375354.852 6...   \n",
       "\n",
       "                         centroid  \n",
       "0  POINT (375676.529 6658405.261)  \n",
       "1  POINT (365520.906 6675893.101)  \n",
       "2  POINT (367400.175 6681941.088)  \n",
       "3  POINT (372191.037 6687785.458)  \n",
       "4  POINT (375678.189 6670243.076)  "
      ]
     },
     "execution_count": 21,
     "metadata": {},
     "output_type": "execute_result"
    }
   ],
   "source": [
    "df1['centroid'] = df1.centroid\n",
    "df1.head()"
   ]
  },
  {
   "cell_type": "markdown",
   "metadata": {},
   "source": [
    "SO, for each row of data in the disctricts -table, we want to figure out the nearest address point and fetch some attributes related to that point. In other words, we want to apply the Shapely `nearest_points`function so that we compare each polygon centroid to all address points, and based on this information access correct attribute information from the address table. \n",
    "\n",
    "For doing this, we can create a function that we will apply on the polygon GeoDataFrame:"
   ]
  },
  {
   "cell_type": "code",
   "execution_count": 22,
   "metadata": {},
   "outputs": [],
   "source": [
    "def get_nearest_values(row, other_gdf, point_column='geometry', value_column=\"geometry\"):\n",
    "    \"\"\"Find the nearest point and return the corresponding value from specified value column.\"\"\"\n",
    "    \n",
    "    # Create an union of the other GeoDataFrame's geometries:\n",
    "    other_points = other_gdf[\"geometry\"].unary_union\n",
    "    \n",
    "    # Find the nearest points\n",
    "    nearest_geoms = nearest_points(row[point_column], other_points)\n",
    "    \n",
    "    # Get corresponding values from the other df\n",
    "    nearest_data = other_gdf.loc[other_gdf[\"geometry\"] == nearest_geoms[1]]\n",
    "    \n",
    "    nearest_value = nearest_data[value_column].values[0]\n",
    "    \n",
    "    return nearest_value"
   ]
  },
  {
   "cell_type": "markdown",
   "metadata": {},
   "source": [
    "By default, this function returns the geometry of the nearest point for each row. It is also possible to fetch information from other columns by changing the `value_column` parameter."
   ]
  },
  {
   "cell_type": "markdown",
   "metadata": {},
   "source": [
    "The function creates a MultiPoint object from `other_gdf` geometry column (in our case, the address points) and further passes this MultiPoint object to Shapely's `nearest_points` function. \n",
    "\n",
    "Here, we are using a method for creating an union of all input geometries called `unary_union`. \n",
    "\n",
    "- Let's check how unary union works by applying it to the address points GeoDataFrame:"
   ]
  },
  {
   "cell_type": "code",
   "execution_count": 23,
   "metadata": {},
   "outputs": [
    {
     "name": "stdout",
     "output_type": "stream",
     "text": [
      "MULTIPOINT (381504.3527144172 6678280.815110135, 381939.5682055904 6681352.997412824, 382114.9792119076 6678084.618272202, 382542.959824382 6680048.502006705, 382745.2925349261 6678996.642557419, 383326.4146784364 6677463.572679196, 384320.8982796484 6671412.394772961, 384617.9290663649 6670924.165973873, 384632.9367817009 6670672.153797519, 384837.7628983713 6671583.081838455, 385236.1071374319 6672032.291530753, 385315.3532032097 6672037.488103471, 385486.6376990388 6675317.531513787, 385693.1973947038 6672169.806994526, 385799.3988146852 6672111.07961222, 386100.1179494156 6672326.634806169, 386262.2288228125 6673167.286584443, 386323.7502928812 6677878.715123225, 386949.6585750603 6674071.017448493, 387329.0195423599 6678742.357557865, 387863.2437879865 6674168.130442299, 388924.301839899 6680234.979897246, 389469.4416996007 6674096.854469957, 390024.582701657 6681059.205512979, 390419.00094183 6680179.263382102, 390662.9864496586 6674679.071426063, 390936.7088265476 6682356.542835641, 391058.438543791 6684060.674573047, 393383.2058576533 6677976.112551358, 393504.1526811307 6676328.732766316, 393774.3333639805 6679151.035335409, 395336.0706881196 6679399.593591456, 395422.8505914698 6677677.966636043, 396679.3026471605 6675945.878317177)\n"
     ]
    }
   ],
   "source": [
    "unary_union = df2.unary_union\n",
    "print(unary_union)"
   ]
  },
  {
   "cell_type": "markdown",
   "metadata": {},
   "source": [
    "Okey now we are ready to use our function and find closest address point for each polygon centroid.\n",
    " - Try first applying the function without any additional modifications: "
   ]
  },
  {
   "cell_type": "code",
   "execution_count": 27,
   "metadata": {},
   "outputs": [
    {
     "data": {
      "text/html": [
       "<div>\n",
       "<style scoped>\n",
       "    .dataframe tbody tr th:only-of-type {\n",
       "        vertical-align: middle;\n",
       "    }\n",
       "\n",
       "    .dataframe tbody tr th {\n",
       "        vertical-align: top;\n",
       "    }\n",
       "\n",
       "    .dataframe thead th {\n",
       "        text-align: right;\n",
       "    }\n",
       "</style>\n",
       "<table border=\"1\" class=\"dataframe\">\n",
       "  <thead>\n",
       "    <tr style=\"text-align: right;\">\n",
       "      <th></th>\n",
       "      <th>Name</th>\n",
       "      <th>Description</th>\n",
       "      <th>geometry</th>\n",
       "      <th>centroid</th>\n",
       "      <th>nearest_loc</th>\n",
       "    </tr>\n",
       "  </thead>\n",
       "  <tbody>\n",
       "    <tr>\n",
       "      <th>0</th>\n",
       "      <td>Suur-Espoonlahti</td>\n",
       "      <td></td>\n",
       "      <td>POLYGON ((376322.317 6665639.417, 376401.244 6...</td>\n",
       "      <td>POINT (375676.529 6658405.261)</td>\n",
       "      <td>POINT (384632.9367817009 6670672.153797519)</td>\n",
       "    </tr>\n",
       "    <tr>\n",
       "      <th>1</th>\n",
       "      <td>Suur-Kauklahti</td>\n",
       "      <td></td>\n",
       "      <td>POLYGON ((367726.077 6673018.023, 367715.245 6...</td>\n",
       "      <td>POINT (365520.906 6675893.101)</td>\n",
       "      <td>POINT (381504.3527144172 6678280.815110135)</td>\n",
       "    </tr>\n",
       "    <tr>\n",
       "      <th>2</th>\n",
       "      <td>Vanha-Espoo</td>\n",
       "      <td></td>\n",
       "      <td>POLYGON ((371207.712 6677289.881, 371174.739 6...</td>\n",
       "      <td>POINT (367400.175 6681941.088)</td>\n",
       "      <td>POINT (381939.5682055904 6681352.997412824)</td>\n",
       "    </tr>\n",
       "    <tr>\n",
       "      <th>3</th>\n",
       "      <td>Pohjois-Espoo</td>\n",
       "      <td></td>\n",
       "      <td>POLYGON ((376528.523 6683480.345, 376638.253 6...</td>\n",
       "      <td>POINT (372191.037 6687785.458)</td>\n",
       "      <td>POINT (381939.5682055904 6681352.997412824)</td>\n",
       "    </tr>\n",
       "    <tr>\n",
       "      <th>4</th>\n",
       "      <td>Suur-Matinkylä</td>\n",
       "      <td></td>\n",
       "      <td>POLYGON ((375347.271 6672052.630, 375354.852 6...</td>\n",
       "      <td>POINT (375678.189 6670243.076)</td>\n",
       "      <td>POINT (384320.8982796484 6671412.394772961)</td>\n",
       "    </tr>\n",
       "    <tr>\n",
       "      <th>5</th>\n",
       "      <td>Kauniainen</td>\n",
       "      <td></td>\n",
       "      <td>POLYGON ((372067.589 6678103.568, 372160.946 6...</td>\n",
       "      <td>POINT (373312.507 6677502.149)</td>\n",
       "      <td>POINT (381504.3527144172 6678280.815110135)</td>\n",
       "    </tr>\n",
       "    <tr>\n",
       "      <th>6</th>\n",
       "      <td>Suur-Leppävaara</td>\n",
       "      <td></td>\n",
       "      <td>POLYGON ((377936.326 6676642.018, 377826.292 6...</td>\n",
       "      <td>POINT (376996.968 6678999.675)</td>\n",
       "      <td>POINT (381504.3527144172 6678280.815110135)</td>\n",
       "    </tr>\n",
       "    <tr>\n",
       "      <th>7</th>\n",
       "      <td>Suur-Tapiola</td>\n",
       "      <td></td>\n",
       "      <td>POLYGON ((380380.413 6671848.483, 380379.747 6...</td>\n",
       "      <td>POINT (377930.244 6673286.863)</td>\n",
       "      <td>POINT (381504.3527144172 6678280.815110135)</td>\n",
       "    </tr>\n",
       "    <tr>\n",
       "      <th>8</th>\n",
       "      <td>Myyrmäki</td>\n",
       "      <td></td>\n",
       "      <td>POLYGON ((379739.645 6685720.008, 379723.093 6...</td>\n",
       "      <td>POINT (379311.497 6684389.773)</td>\n",
       "      <td>POINT (381939.5682055904 6681352.997412824)</td>\n",
       "    </tr>\n",
       "    <tr>\n",
       "      <th>9</th>\n",
       "      <td>Kivistö</td>\n",
       "      <td></td>\n",
       "      <td>POLYGON ((386456.749 6690875.562, 386402.093 6...</td>\n",
       "      <td>POINT (380885.363 6691624.622)</td>\n",
       "      <td>POINT (381939.5682055904 6681352.997412824)</td>\n",
       "    </tr>\n",
       "    <tr>\n",
       "      <th>10</th>\n",
       "      <td>Eteläinen</td>\n",
       "      <td></td>\n",
       "      <td>POLYGON ((376716.573 6664613.300, 378849.566 6...</td>\n",
       "      <td>POINT (383732.093 6665472.539)</td>\n",
       "      <td>POINT (384632.9367817009 6670672.153797519)</td>\n",
       "    </tr>\n",
       "    <tr>\n",
       "      <th>11</th>\n",
       "      <td>Kaakkoinen</td>\n",
       "      <td></td>\n",
       "      <td>POLYGON ((380084.749 6656431.462, 381255.788 6...</td>\n",
       "      <td>POINT (391587.036 6658734.067)</td>\n",
       "      <td>POINT (384632.9367817009 6670672.153797519)</td>\n",
       "    </tr>\n",
       "    <tr>\n",
       "      <th>12</th>\n",
       "      <td>Keskinen</td>\n",
       "      <td></td>\n",
       "      <td>POLYGON ((384090.837 6676434.855, 384035.475 6...</td>\n",
       "      <td>POINT (386632.721 6675515.723)</td>\n",
       "      <td>POINT (385486.6376990388 6675317.531513787)</td>\n",
       "    </tr>\n",
       "    <tr>\n",
       "      <th>13</th>\n",
       "      <td>Läntinen</td>\n",
       "      <td></td>\n",
       "      <td>POLYGON ((380017.597 6681404.233, 379983.257 6...</td>\n",
       "      <td>POINT (382328.676 6677530.122)</td>\n",
       "      <td>POINT (382114.9792119076 6678084.618272202)</td>\n",
       "    </tr>\n",
       "    <tr>\n",
       "      <th>14</th>\n",
       "      <td>Pohjoinen</td>\n",
       "      <td></td>\n",
       "      <td>POLYGON ((383791.391 6683212.944, 383924.595 6...</td>\n",
       "      <td>POINT (386053.051 6680645.212)</td>\n",
       "      <td>POINT (387329.0195423599 6678742.357557865)</td>\n",
       "    </tr>\n",
       "    <tr>\n",
       "      <th>15</th>\n",
       "      <td>Koillinen</td>\n",
       "      <td></td>\n",
       "      <td>POLYGON ((387741.747 6680226.398, 387758.183 6...</td>\n",
       "      <td>POINT (390488.377 6680923.621)</td>\n",
       "      <td>POINT (390024.582701657 6681059.205512979)</td>\n",
       "    </tr>\n",
       "    <tr>\n",
       "      <th>16</th>\n",
       "      <td>Aviapolis</td>\n",
       "      <td></td>\n",
       "      <td>POLYGON ((386456.749 6690875.562, 387070.299 6...</td>\n",
       "      <td>POINT (385913.192 6686834.622)</td>\n",
       "      <td>POINT (391058.438543791 6684060.674573047)</td>\n",
       "    </tr>\n",
       "    <tr>\n",
       "      <th>17</th>\n",
       "      <td>Tikkurila</td>\n",
       "      <td></td>\n",
       "      <td>POLYGON ((388128.618 6685390.032, 388210.880 6...</td>\n",
       "      <td>POINT (391633.458 6686214.816)</td>\n",
       "      <td>POINT (391058.438543791 6684060.674573047)</td>\n",
       "    </tr>\n",
       "    <tr>\n",
       "      <th>18</th>\n",
       "      <td>Koivukylä</td>\n",
       "      <td></td>\n",
       "      <td>POLYGON ((389260.532 6690178.054, 389583.145 6...</td>\n",
       "      <td>POINT (392738.974 6689278.652)</td>\n",
       "      <td>POINT (391058.438543791 6684060.674573047)</td>\n",
       "    </tr>\n",
       "    <tr>\n",
       "      <th>19</th>\n",
       "      <td>Itäinen</td>\n",
       "      <td></td>\n",
       "      <td>POLYGON ((391199.311 6679344.732, 391237.836 6...</td>\n",
       "      <td>POINT (396138.548 6676187.051)</td>\n",
       "      <td>POINT (396679.3026471605 6675945.878317177)</td>\n",
       "    </tr>\n",
       "    <tr>\n",
       "      <th>20</th>\n",
       "      <td>Östersundom</td>\n",
       "      <td></td>\n",
       "      <td>POLYGON ((402241.481 6681291.597, 402457.638 6...</td>\n",
       "      <td>POINT (400266.826 6681776.602)</td>\n",
       "      <td>POINT (395336.0706881196 6679399.593591456)</td>\n",
       "    </tr>\n",
       "    <tr>\n",
       "      <th>21</th>\n",
       "      <td>Hakunila</td>\n",
       "      <td></td>\n",
       "      <td>POLYGON ((394059.677 6683295.693, 394072.152 6...</td>\n",
       "      <td>POINT (396661.701 6684286.235)</td>\n",
       "      <td>POINT (395336.0706881196 6679399.593591456)</td>\n",
       "    </tr>\n",
       "    <tr>\n",
       "      <th>22</th>\n",
       "      <td>Korso</td>\n",
       "      <td></td>\n",
       "      <td>POLYGON ((396441.125 6690963.233, 396229.448 6...</td>\n",
       "      <td>POINT (394549.969 6692230.741)</td>\n",
       "      <td>POINT (391058.438543791 6684060.674573047)</td>\n",
       "    </tr>\n",
       "  </tbody>\n",
       "</table>\n",
       "</div>"
      ],
      "text/plain": [
       "                Name Description  \\\n",
       "0   Suur-Espoonlahti               \n",
       "1     Suur-Kauklahti               \n",
       "2        Vanha-Espoo               \n",
       "3      Pohjois-Espoo               \n",
       "4     Suur-Matinkylä               \n",
       "5         Kauniainen               \n",
       "6    Suur-Leppävaara               \n",
       "7       Suur-Tapiola               \n",
       "8           Myyrmäki               \n",
       "9            Kivistö               \n",
       "10         Eteläinen               \n",
       "11        Kaakkoinen               \n",
       "12          Keskinen               \n",
       "13          Läntinen               \n",
       "14         Pohjoinen               \n",
       "15         Koillinen               \n",
       "16         Aviapolis               \n",
       "17         Tikkurila               \n",
       "18         Koivukylä               \n",
       "19           Itäinen               \n",
       "20       Östersundom               \n",
       "21          Hakunila               \n",
       "22             Korso               \n",
       "\n",
       "                                             geometry  \\\n",
       "0   POLYGON ((376322.317 6665639.417, 376401.244 6...   \n",
       "1   POLYGON ((367726.077 6673018.023, 367715.245 6...   \n",
       "2   POLYGON ((371207.712 6677289.881, 371174.739 6...   \n",
       "3   POLYGON ((376528.523 6683480.345, 376638.253 6...   \n",
       "4   POLYGON ((375347.271 6672052.630, 375354.852 6...   \n",
       "5   POLYGON ((372067.589 6678103.568, 372160.946 6...   \n",
       "6   POLYGON ((377936.326 6676642.018, 377826.292 6...   \n",
       "7   POLYGON ((380380.413 6671848.483, 380379.747 6...   \n",
       "8   POLYGON ((379739.645 6685720.008, 379723.093 6...   \n",
       "9   POLYGON ((386456.749 6690875.562, 386402.093 6...   \n",
       "10  POLYGON ((376716.573 6664613.300, 378849.566 6...   \n",
       "11  POLYGON ((380084.749 6656431.462, 381255.788 6...   \n",
       "12  POLYGON ((384090.837 6676434.855, 384035.475 6...   \n",
       "13  POLYGON ((380017.597 6681404.233, 379983.257 6...   \n",
       "14  POLYGON ((383791.391 6683212.944, 383924.595 6...   \n",
       "15  POLYGON ((387741.747 6680226.398, 387758.183 6...   \n",
       "16  POLYGON ((386456.749 6690875.562, 387070.299 6...   \n",
       "17  POLYGON ((388128.618 6685390.032, 388210.880 6...   \n",
       "18  POLYGON ((389260.532 6690178.054, 389583.145 6...   \n",
       "19  POLYGON ((391199.311 6679344.732, 391237.836 6...   \n",
       "20  POLYGON ((402241.481 6681291.597, 402457.638 6...   \n",
       "21  POLYGON ((394059.677 6683295.693, 394072.152 6...   \n",
       "22  POLYGON ((396441.125 6690963.233, 396229.448 6...   \n",
       "\n",
       "                          centroid  \\\n",
       "0   POINT (375676.529 6658405.261)   \n",
       "1   POINT (365520.906 6675893.101)   \n",
       "2   POINT (367400.175 6681941.088)   \n",
       "3   POINT (372191.037 6687785.458)   \n",
       "4   POINT (375678.189 6670243.076)   \n",
       "5   POINT (373312.507 6677502.149)   \n",
       "6   POINT (376996.968 6678999.675)   \n",
       "7   POINT (377930.244 6673286.863)   \n",
       "8   POINT (379311.497 6684389.773)   \n",
       "9   POINT (380885.363 6691624.622)   \n",
       "10  POINT (383732.093 6665472.539)   \n",
       "11  POINT (391587.036 6658734.067)   \n",
       "12  POINT (386632.721 6675515.723)   \n",
       "13  POINT (382328.676 6677530.122)   \n",
       "14  POINT (386053.051 6680645.212)   \n",
       "15  POINT (390488.377 6680923.621)   \n",
       "16  POINT (385913.192 6686834.622)   \n",
       "17  POINT (391633.458 6686214.816)   \n",
       "18  POINT (392738.974 6689278.652)   \n",
       "19  POINT (396138.548 6676187.051)   \n",
       "20  POINT (400266.826 6681776.602)   \n",
       "21  POINT (396661.701 6684286.235)   \n",
       "22  POINT (394549.969 6692230.741)   \n",
       "\n",
       "                                    nearest_loc  \n",
       "0   POINT (384632.9367817009 6670672.153797519)  \n",
       "1   POINT (381504.3527144172 6678280.815110135)  \n",
       "2   POINT (381939.5682055904 6681352.997412824)  \n",
       "3   POINT (381939.5682055904 6681352.997412824)  \n",
       "4   POINT (384320.8982796484 6671412.394772961)  \n",
       "5   POINT (381504.3527144172 6678280.815110135)  \n",
       "6   POINT (381504.3527144172 6678280.815110135)  \n",
       "7   POINT (381504.3527144172 6678280.815110135)  \n",
       "8   POINT (381939.5682055904 6681352.997412824)  \n",
       "9   POINT (381939.5682055904 6681352.997412824)  \n",
       "10  POINT (384632.9367817009 6670672.153797519)  \n",
       "11  POINT (384632.9367817009 6670672.153797519)  \n",
       "12  POINT (385486.6376990388 6675317.531513787)  \n",
       "13  POINT (382114.9792119076 6678084.618272202)  \n",
       "14  POINT (387329.0195423599 6678742.357557865)  \n",
       "15   POINT (390024.582701657 6681059.205512979)  \n",
       "16   POINT (391058.438543791 6684060.674573047)  \n",
       "17   POINT (391058.438543791 6684060.674573047)  \n",
       "18   POINT (391058.438543791 6684060.674573047)  \n",
       "19  POINT (396679.3026471605 6675945.878317177)  \n",
       "20  POINT (395336.0706881196 6679399.593591456)  \n",
       "21  POINT (395336.0706881196 6679399.593591456)  \n",
       "22   POINT (391058.438543791 6684060.674573047)  "
      ]
     },
     "execution_count": 27,
     "metadata": {},
     "output_type": "execute_result"
    }
   ],
   "source": [
    "df1[\"nearest_loc\"] = df1.apply(get_nearest_values, other_gdf=df2, point_column=\"centroid\", axis=1)\n",
    "df1"
   ]
  },
  {
   "cell_type": "markdown",
   "metadata": {},
   "source": [
    "- Finally, we can specify that we want the `id` -column for each point, and store the output in a new column `\"nearest_loc\"`:"
   ]
  },
  {
   "cell_type": "code",
   "execution_count": 25,
   "metadata": {},
   "outputs": [],
   "source": [
    "df1[\"nearest_loc\"] = df1.apply(get_nearest_values, other_gdf=df2, point_column=\"centroid\", value_column=\"id\", axis=1)"
   ]
  },
  {
   "cell_type": "code",
   "execution_count": 26,
   "metadata": {},
   "outputs": [
    {
     "data": {
      "text/html": [
       "<div>\n",
       "<style scoped>\n",
       "    .dataframe tbody tr th:only-of-type {\n",
       "        vertical-align: middle;\n",
       "    }\n",
       "\n",
       "    .dataframe tbody tr th {\n",
       "        vertical-align: top;\n",
       "    }\n",
       "\n",
       "    .dataframe thead th {\n",
       "        text-align: right;\n",
       "    }\n",
       "</style>\n",
       "<table border=\"1\" class=\"dataframe\">\n",
       "  <thead>\n",
       "    <tr style=\"text-align: right;\">\n",
       "      <th></th>\n",
       "      <th>Name</th>\n",
       "      <th>Description</th>\n",
       "      <th>geometry</th>\n",
       "      <th>centroid</th>\n",
       "      <th>nearest_loc</th>\n",
       "    </tr>\n",
       "  </thead>\n",
       "  <tbody>\n",
       "    <tr>\n",
       "      <th>0</th>\n",
       "      <td>Suur-Espoonlahti</td>\n",
       "      <td></td>\n",
       "      <td>POLYGON ((376322.317 6665639.417, 376401.244 6...</td>\n",
       "      <td>POINT (375676.529 6658405.261)</td>\n",
       "      <td>1005</td>\n",
       "    </tr>\n",
       "    <tr>\n",
       "      <th>1</th>\n",
       "      <td>Suur-Kauklahti</td>\n",
       "      <td></td>\n",
       "      <td>POLYGON ((367726.077 6673018.023, 367715.245 6...</td>\n",
       "      <td>POINT (365520.906 6675893.101)</td>\n",
       "      <td>1020</td>\n",
       "    </tr>\n",
       "    <tr>\n",
       "      <th>2</th>\n",
       "      <td>Vanha-Espoo</td>\n",
       "      <td></td>\n",
       "      <td>POLYGON ((371207.712 6677289.881, 371174.739 6...</td>\n",
       "      <td>POINT (367400.175 6681941.088)</td>\n",
       "      <td>1017</td>\n",
       "    </tr>\n",
       "    <tr>\n",
       "      <th>3</th>\n",
       "      <td>Pohjois-Espoo</td>\n",
       "      <td></td>\n",
       "      <td>POLYGON ((376528.523 6683480.345, 376638.253 6...</td>\n",
       "      <td>POINT (372191.037 6687785.458)</td>\n",
       "      <td>1017</td>\n",
       "    </tr>\n",
       "    <tr>\n",
       "      <th>4</th>\n",
       "      <td>Suur-Matinkylä</td>\n",
       "      <td></td>\n",
       "      <td>POLYGON ((375347.271 6672052.630, 375354.852 6...</td>\n",
       "      <td>POINT (375678.189 6670243.076)</td>\n",
       "      <td>1000</td>\n",
       "    </tr>\n",
       "  </tbody>\n",
       "</table>\n",
       "</div>"
      ],
      "text/plain": [
       "               Name Description  \\\n",
       "0  Suur-Espoonlahti               \n",
       "1    Suur-Kauklahti               \n",
       "2       Vanha-Espoo               \n",
       "3     Pohjois-Espoo               \n",
       "4    Suur-Matinkylä               \n",
       "\n",
       "                                            geometry  \\\n",
       "0  POLYGON ((376322.317 6665639.417, 376401.244 6...   \n",
       "1  POLYGON ((367726.077 6673018.023, 367715.245 6...   \n",
       "2  POLYGON ((371207.712 6677289.881, 371174.739 6...   \n",
       "3  POLYGON ((376528.523 6683480.345, 376638.253 6...   \n",
       "4  POLYGON ((375347.271 6672052.630, 375354.852 6...   \n",
       "\n",
       "                         centroid  nearest_loc  \n",
       "0  POINT (375676.529 6658405.261)         1005  \n",
       "1  POINT (365520.906 6675893.101)         1020  \n",
       "2  POINT (367400.175 6681941.088)         1017  \n",
       "3  POINT (372191.037 6687785.458)         1017  \n",
       "4  POINT (375678.189 6670243.076)         1000  "
      ]
     },
     "execution_count": 26,
     "metadata": {},
     "output_type": "execute_result"
    }
   ],
   "source": [
    "df1.head()"
   ]
  },
  {
   "cell_type": "markdown",
   "metadata": {},
   "source": [
    "That's it! Now we found the closest point for each centroid and got the ``id`` value from our addresses into the ``df1`` GeoDataFrame.\n"
   ]
  }
 ],
 "metadata": {
  "kernelspec": {
   "display_name": "Python 3",
   "language": "python",
   "name": "python3"
  },
  "language_info": {
   "codemirror_mode": {
    "name": "ipython",
    "version": 3
   },
   "file_extension": ".py",
   "mimetype": "text/x-python",
   "name": "python",
   "nbconvert_exporter": "python",
   "pygments_lexer": "ipython3",
   "version": "3.8.6"
  }
 },
 "nbformat": 4,
 "nbformat_minor": 4
}
